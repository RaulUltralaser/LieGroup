{
 "cells": [
  {
   "cell_type": "code",
   "execution_count": 2,
   "metadata": {},
   "outputs": [],
   "source": [
    "from manim import *\n",
    "import cv2\n",
    "import matplotlib.pyplot as plt\n",
    "import numpy as np\n",
    "import math\n",
    "# import IPython.display as display\n",
    "# from PIL import Image\n",
    "\n",
    "\n",
    "\n",
    "config.media_width = \"75%\"\n",
    "config.verbosity = \"WARNING\""
   ]
  },
  {
   "cell_type": "code",
   "execution_count": 17,
   "metadata": {},
   "outputs": [
    {
     "name": "stderr",
     "output_type": "stream",
     "text": [
      "                                                                                                \r"
     ]
    },
    {
     "data": {
      "text/html": [
       "<video src=\"media/jupyter/MatrixVisualization@2023-04-11@12-38-28.mp4\" controls autoplay loop style=\"max-width: 75%;\"  >\n",
       "      Your browser does not support the <code>video</code> element.\n",
       "    </video>"
      ],
      "text/plain": [
       "<IPython.core.display.Video object>"
      ]
     },
     "metadata": {},
     "output_type": "display_data"
    }
   ],
   "source": [
    "%%manim -qm MatrixVisualization\n",
    "# from IPython.display import HTML\n",
    "\n",
    "class MatrixVisualization(Scene):\n",
    "    def construct(self):\n",
    "        # Crear matriz genérica\n",
    "        matrix = Matrix([['a','b'], ['c','d']])\n",
    "\n",
    "        # Mostrar matriz en la pantalla\n",
    "        self.play(Create(matrix))\n",
    "        self.wait()\n",
    "\n",
    "        #añade el texto dete al lado de la matriz\n",
    "        text = MathTex(r\"det\").shift(LEFT*1.6)\n",
    "        self.play(Write(text))\n",
    "        self.wait()\n",
    "\n",
    "        #añade la igualdad del lado derecho\n",
    "        igualdad = MathTex(r\"=ad-bc=1\").shift(RIGHT*3)\n",
    "        self.play(Write(igualdad))\n",
    "        self.wait()\n",
    "        \n",
    "        # Borrar la pantalla\n",
    "        self.clear()\n",
    "\n",
    "        # Crear tres matrices con determinante igual a 1 y una matriz con determinante distinto de 1\n",
    "        matrices = [Matrix([[1, 0], [0, 1]]), Matrix([[2, 1], [1, 1]]), Matrix([[3, 1], [2, 1]]), Matrix([[1, 1], [1, 0]])]\n",
    "\n",
    "        # Mostrar las matrices en la pantalla\n",
    "        for i, matrix in enumerate(matrices):\n",
    "            \n",
    "            self.play(Create(matrix))\n",
    "\n",
    "            # Agregar texto \"det\" a la izquierda de la matriz\n",
    "            det_text = MathTex(r\"det\").next_to(matrix, direction=LEFT*0.4, buff=1)\n",
    "            self.add(det_text)\n",
    "\n",
    "\n",
    "            if i == 0:\n",
    "                igualdad = MathTex(r\"=1-0=1\").shift(RIGHT*3)\n",
    "                self.play(Write(igualdad))\n",
    "            if i == 1:\n",
    "                igualdad = MathTex(r\"=2-1=1\").shift(RIGHT*3)\n",
    "                self.play(Write(igualdad))\n",
    "            if i == 2:\n",
    "                igualdad = MathTex(r\"=3-2=1\").shift(RIGHT*3)\n",
    "                self.play(Write(igualdad))\n",
    "            if i == 3:\n",
    "                igualdad = MathTex(r\"=2-1=-1 \\neq 1\").shift(RIGHT*3)\n",
    "                self.play(Write(igualdad))\n",
    "                self.wait(3)\n",
    "                igualdad.set_color(RED)\n",
    "                self.wait()\n",
    "                det_text.set_color(RED)\n",
    "                matrix.set_color(RED)\n",
    "                \n",
    "            \n",
    "            self.wait(2)\n",
    "            self.clear()\n",
    "        # Esperar un momento para mostrar las matrices\n",
    "        self.wait(4)\n"
   ]
  },
  {
   "cell_type": "code",
   "execution_count": 23,
   "metadata": {},
   "outputs": [
    {
     "name": "stderr",
     "output_type": "stream",
     "text": [
      "                                                                                                                             \r"
     ]
    },
    {
     "data": {
      "text/html": [
       "<video src=\"media/jupyter/ImplicitFunctionTheorem@2023-04-06@14-48-47.mp4\" controls autoplay loop style=\"max-width: 75%;\"  >\n",
       "      Your browser does not support the <code>video</code> element.\n",
       "    </video>"
      ],
      "text/plain": [
       "<IPython.core.display.Video object>"
      ]
     },
     "metadata": {},
     "output_type": "display_data"
    }
   ],
   "source": [
    "%%manim -qm ImplicitFunctionTheorem\n",
    "\n",
    "class ImplicitFunctionTheorem(Scene):\n",
    "    axes_kwargs= {\n",
    "\t\t\"x_range\": (-3, 3, 1),\n",
    "\t\t\"y_range\": (-3, 3, 1),\n",
    "        'x_length': 6,\n",
    "        'y_length': 6,\n",
    "\t\t\"axis_config\": {\n",
    "\t\t\t\"stroke_color\": BLUE,\n",
    "\t\t\t\"stroke_width\": 4,\n",
    "\t\t},\n",
    "\t\t\"y_axis_config\": {\n",
    "\t\t\t\"include_tip\": False\n",
    "\t\t}\n",
    "\t}\n",
    "    \n",
    "    def construct(self):\n",
    "        # # Definir la escena\n",
    "\n",
    "\n",
    "        # self.camera.background_color = WHITE\n",
    "        # axes = Axes(\n",
    "        #     x_range=(-3, 3), y_range=(-3, 3),\n",
    "        #     x_length=6, y_length=6,\n",
    "        #     axis_config={\"color\": BLACK, \"stroke_width\": 2, \"tick_size\": 0.05},\n",
    "        #     tips=False\n",
    "        # )\n",
    "\n",
    "        # Agregar títulos y descripciones\n",
    "        title = Title(\"Teorema de la función implícita\", color=WHITE)\n",
    "        subtitle = Text(\"Representación visual\", color=WHITE).scale(0.8)\n",
    "        description1 = MathTex(r\"Sea\\hspace{.1cm} F(x,y) = x^2 + y^2 - 9 = 0\").shift(UP)\n",
    "        description2 = Text(\"¿Podemos despejar y como una función de x?\").scale(0.7)\n",
    "        description3 = Text(\"El teorema de la función implícita dice que...\").scale(0.7)\n",
    "        teorema1= Text('Si una función f es suficientemente suave en un punto').shift(UP*3).scale(0.6)\n",
    "        teorema2= Text('y su derivada parcial es distinta de cero').shift(UP*2).scale(0.6)\n",
    "        teorema3 =Text('entonces existe una funcion g que satisface').shift(UP).scale(0.6)\n",
    "        teorema4 = MathTex(r'g(x_o)=y_0')\n",
    "        teorema5= MathTex(r'f(x,g(x))=0\\forall x').shift(DOWN)\n",
    "        teorema6 = Text('para algún intervalo alrededor de').shift(DOWN*2).scale(0.6)\n",
    "        teorema7 = MathTex(r'x_0').next_to(teorema6, RIGHT)\n",
    "        description4 = Text(\"El teorema de la función implícita dice que...\").scale(0.7)\n",
    "        formula = MathTex(r\"F(x,y) = x^2 + y^2 - 9 = 0\").to_corner(UL)\n",
    "        formula2 = MathTex(r\"\\frac{\\partial F}{\\partial y} \\neq 0\").to_corner(UL)\n",
    "        formula3 = MathTex(r\"\\Rightarrow y = f(x)\").to_corner(UL)\n",
    "        formula4 = MathTex(r\"g(x) = \\sqrt{9-x^2}\").to_corner(UL)\n",
    "\n",
    "        axes = Axes(**self.axes_kwargs)\n",
    "        axes.add_coordinates(font_size=20, num_decimal_places=1)\n",
    "\t\t\n",
    "        # circfunc = ParametricFunction(lambda t: np.array([np.sqrt(9-np.power(t, 2)), t, 0]))\n",
    "        # circgraph = axes.plot(circfunc)\n",
    "        circle = Circle(color=WHITE, radius=3)\n",
    "        func = lambda x: np.sqrt(9 - x ** 2) #Quadratic Function\n",
    "        graph = axes.plot(func).set_color(RED)\n",
    "\t\t\n",
    "        # graph = axes.get_graph(lambda x: np.sqrt(9 - x ** 2), x_range=[-3, 0], color=BLUE, stroke_width=3)\n",
    "        point = Dot(point=axes.c2p(0, 3), color=GREEN)\n",
    "\n",
    "        # Animaciones\n",
    "        self.play(Write(title))\n",
    "        self.wait(2)\n",
    "        self.play(Transform(title, subtitle))\n",
    "        self.wait()\n",
    "        self.play(FadeOut(title))\n",
    "        self.play(Write(description1))\n",
    "        self.wait()\n",
    "        # self.play(FadeOut(description1))\n",
    "        self.play(Write(description2))\n",
    "        self.wait()\n",
    "        self.play(FadeOut(description1), FadeOut(description2))\n",
    "        self.play(Write(description3))\n",
    "        self.wait()\n",
    "        self.play(FadeOut(description3))\n",
    "        self.play(Write(teorema1))\n",
    "        self.play(Write(teorema2))\n",
    "        self.play(Write(teorema3))\n",
    "        self.play(Write(teorema4))\n",
    "        self.play(Write(teorema5))\n",
    "        self.play(Write(teorema6))\n",
    "        self.play(Write(teorema7))\n",
    "        self.wait()\n",
    "        self.clear()\n",
    "        self.play(Create(formula))\n",
    "        self.wait()\n",
    "        self.add(axes)\n",
    "        self.play(FadeIn(circle))\n",
    "        self.play(FadeOut(formula))\n",
    "        self.wait()\n",
    "        self.play(Create(formula2))\n",
    "        self.play(Create(point))\n",
    "        self.wait(3)\n",
    "        self.play(Transform(formula2, formula3))\n",
    "        self.wait()\n",
    "        self.play(Transform(formula2, formula4))\n",
    "        # self.wait()\n",
    "        self.play(FadeIn(graph))\n",
    "        self.wait(3)\n",
    "        self.play(FadeOut(point))\n",
    "        self.play(FadeOut(circle))\n",
    "        self.play(FadeOut(graph))\n",
    "        self.play(FadeOut(axes))\n",
    "        self.wait()\n",
    "        self.clear()\n"
   ]
  },
  {
   "cell_type": "code",
   "execution_count": 14,
   "metadata": {},
   "outputs": [
    {
     "name": "stderr",
     "output_type": "stream",
     "text": [
      "                                                                                                                              \r"
     ]
    },
    {
     "data": {
      "text/html": [
       "<video src=\"media/jupyter/ConvergenceDefinition@2023-04-04@16-05-18.mp4\" controls autoplay loop style=\"max-width: 75%;\"  >\n",
       "      Your browser does not support the <code>video</code> element.\n",
       "    </video>"
      ],
      "text/plain": [
       "<IPython.core.display.Video object>"
      ]
     },
     "metadata": {},
     "output_type": "display_data"
    }
   ],
   "source": [
    "%%manim -qm ConvergenceDefinition\n",
    "\n",
    "class ConvergenceDefinition(Scene):\n",
    "    def construct(self):\n",
    "        title = Text(\"Definición 1.3: Convergencia de una secuencia de matrices\").scale(.7)\n",
    "        self.play(Write(title))\n",
    "        self.wait(2)\n",
    "        self.play(FadeOut(title))\n",
    "\n",
    "        # Matrices A_m\n",
    "        A1 = Matrix([[1, 0], [0, 1]])\n",
    "        A2 = Matrix([['1/2', '0'], ['0', '1/2']])\n",
    "        A3 = Matrix([['1/3', '0'], ['0', '1/3']])\n",
    "        Am = VGroup(A1, A2, A3).arrange_submobjects(RIGHT, buff=1)\n",
    "\n",
    "        self.play(Create(Am))\n",
    "        self.wait(2)\n",
    "        \n",
    "\n",
    "        # Arrow indicating convergence\n",
    "        arrow = Arrow(Am.get_right() + 0.2*RIGHT, Am.get_right() + 2*RIGHT, buff=0.1)\n",
    "        arrow_text = Text(\"converge a A\", font_size=20).next_to(arrow, DOWN)\n",
    "        A = Matrix([[0, 0], [0, 0]])\n",
    "        A_text = VGroup(Text(\"A\", font_size=26), A).arrange_submobjects(DOWN)\n",
    "\n",
    "        self.play(Create(arrow))\n",
    "        self.play(Write(arrow_text))\n",
    "        self.wait(2)\n",
    "        self.clear()\n",
    "        self.play(TransformFromCopy(Am, A, path_arc=PI/2))\n",
    "        # self.play(FadeOut(arrow), FadeOut(arrow_text))\n",
    "\n",
    "        self.wait(2)\n"
   ]
  },
  {
   "cell_type": "code",
   "execution_count": 17,
   "metadata": {},
   "outputs": [
    {
     "name": "stderr",
     "output_type": "stream",
     "text": [
      "                                                                                                  \r"
     ]
    },
    {
     "data": {
      "text/html": [
       "<video src=\"media/jupyter/SurfaceAnimation@2023-04-04@16-14-57.mp4\" controls autoplay loop style=\"max-width: 75%;\"  >\n",
       "      Your browser does not support the <code>video</code> element.\n",
       "    </video>"
      ],
      "text/plain": [
       "<IPython.core.display.Video object>"
      ]
     },
     "metadata": {},
     "output_type": "display_data"
    }
   ],
   "source": [
    "%%manim -qm SurfaceAnimation\n",
    "\n",
    "class SurfaceAnimation(ThreeDScene):\n",
    "    def construct(self):\n",
    "        surface = self.create_surface()\n",
    "        self.set_camera_orientation(phi=75*DEGREES, theta=45*DEGREES)\n",
    "        self.play(Create(surface))\n",
    "        self.move_camera(phi=0, theta=180*DEGREES, run_time=3)\n",
    "        self.wait(1)\n",
    "\n",
    "    def create_surface(self):\n",
    "        def parametric_function(u, v):\n",
    "            x = np.cos(u) * np.sin(v)\n",
    "            y = np.sin(u) * np.sin(v)\n",
    "            z = np.cos(v)\n",
    "            return np.array([x, y, z])\n",
    "\n",
    "        surface = Surface(\n",
    "            parametric_function,\n",
    "            u_range=[0, 2*np.pi],\n",
    "            v_range=[-np.pi/2, np.pi/2],\n",
    "            resolution=32,\n",
    "            fill_opacity=0.8,\n",
    "            color=RED\n",
    "        )\n",
    "\n",
    "        return surface\n"
   ]
  },
  {
   "cell_type": "code",
   "execution_count": 4,
   "metadata": {},
   "outputs": [
    {
     "name": "stderr",
     "output_type": "stream",
     "text": [
      "                                                                                                   \r"
     ]
    },
    {
     "data": {
      "text/html": [
       "<video src=\"media/jupyter/IrrationalLineOnTorus@2023-04-11@14-09-25.mp4\" controls autoplay loop style=\"max-width: 75%;\"  >\n",
       "      Your browser does not support the <code>video</code> element.\n",
       "    </video>"
      ],
      "text/plain": [
       "<IPython.core.display.Video object>"
      ]
     },
     "metadata": {},
     "output_type": "display_data"
    }
   ],
   "source": [
    "%%manim -qm IrrationalLineOnTorus\n",
    "\n",
    "class IrrationalLineOnTorus(ThreeDScene):\n",
    "    def construct(self):\n",
    "        title = Text('Linea irracional en un toroide')\n",
    "        # a = math.pi\n",
    "        # b = math.e\n",
    "        a = 5\n",
    "        b = 7\n",
    "\n",
    "        torus = Surface(\n",
    "            lambda u, v: np.array([\n",
    "                (2 + np.cos(v)) * np.cos(u),\n",
    "                (2 + np.cos(v)) * np.sin(u),\n",
    "                np.sin(v)\n",
    "            ]),\n",
    "            u_range=[0,TAU], v_range=[0,TAU],\n",
    "            checkerboard_colors=[RED_D, RED_E],\n",
    "            resolution=32\n",
    "        )\n",
    "\n",
    "        line = ParametricFunction(\n",
    "            lambda t: np.array([\n",
    "                (2 + np.cos(a * t)) * np.cos(b * t),\n",
    "                (2 + np.cos(a * t)) * np.sin(b * t),\n",
    "                np.sin(a * t)\n",
    "            ]),\n",
    "            t_range=[0,TAU],\n",
    "            color=BLUE\n",
    "        )\n",
    "        \n",
    "        self.play(Write(title))\n",
    "        self.wait()\n",
    "        self.play(FadeOut(title))\n",
    "        self.set_camera_orientation(phi=75 * DEGREES, theta=-45 * DEGREES)\n",
    "        self.add(torus)\n",
    "        self.wait(3)\n",
    "\n",
    "        self.play(Write(line))\n",
    "        self.move_camera(phi=0, theta=180*DEGREES, run_time=3)\n",
    "\n",
    "        self.wait(5)\n"
   ]
  }
 ],
 "metadata": {
  "kernelspec": {
   "display_name": "Python 3",
   "language": "python",
   "name": "python3"
  },
  "language_info": {
   "codemirror_mode": {
    "name": "ipython",
    "version": 3
   },
   "file_extension": ".py",
   "mimetype": "text/x-python",
   "name": "python",
   "nbconvert_exporter": "python",
   "pygments_lexer": "ipython3",
   "version": "3.10.6"
  },
  "orig_nbformat": 4,
  "vscode": {
   "interpreter": {
    "hash": "916dbcbb3f70747c44a77c7bcd40155683ae19c65e1c03b4aa3499c5328201f1"
   }
  }
 },
 "nbformat": 4,
 "nbformat_minor": 2
}
