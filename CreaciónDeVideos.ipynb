{
 "cells": [
  {
   "cell_type": "code",
   "execution_count": 3,
   "metadata": {},
   "outputs": [],
   "source": [
    "from manim import *\n",
    "import cv2\n",
    "import matplotlib.pyplot as plt\n",
    "# import IPython.display as display\n",
    "# from PIL import Image\n",
    "\n",
    "\n",
    "\n",
    "config.media_width = \"75%\"\n",
    "config.verbosity = \"WARNING\""
   ]
  },
  {
   "cell_type": "code",
   "execution_count": 2,
   "metadata": {},
   "outputs": [
    {
     "name": "stderr",
     "output_type": "stream",
     "text": [
      "                                                                                                \r"
     ]
    },
    {
     "data": {
      "text/html": [
       "<video src=\"media/jupyter/MatrixVisualization@2023-03-29@11-36-06.mp4\" controls autoplay loop style=\"max-width: 75%;\"  >\n",
       "      Your browser does not support the <code>video</code> element.\n",
       "    </video>"
      ],
      "text/plain": [
       "<IPython.core.display.Video object>"
      ]
     },
     "metadata": {},
     "output_type": "display_data"
    }
   ],
   "source": [
    "%%manim -qm MatrixVisualization\n",
    "# from IPython.display import HTML\n",
    "\n",
    "class MatrixVisualization(Scene):\n",
    "    def construct(self):\n",
    "        # Crear matriz genérica\n",
    "        matrix = Matrix([['a','b'], ['c','d']])\n",
    "\n",
    "        # Mostrar matriz en la pantalla\n",
    "        self.play(Create(matrix))\n",
    "        self.wait()\n",
    "\n",
    "        #añade el texto dete al lado de la matriz\n",
    "        text = MathTex(r\"det\").shift(LEFT*1.6)\n",
    "        self.play(Write(text))\n",
    "        self.wait()\n",
    "\n",
    "        #añade la igualdad del lado derecho\n",
    "        igualdad = MathTex(r\"=ad-bc=1\").shift(RIGHT*3)\n",
    "        self.play(Write(igualdad))\n",
    "        self.wait()\n",
    "        \n",
    "        # Borrar la pantalla\n",
    "        self.clear()\n",
    "\n",
    "        # Crear tres matrices con determinante igual a 1 y una matriz con determinante distinto de 1\n",
    "        matrices = [Matrix([[1, 0], [0, 1]]), Matrix([[2, 1], [1, 1]]), Matrix([[3, 1], [2, 1]]), Matrix([[1, 1], [1, 0]])]\n",
    "\n",
    "        # Mostrar las matrices en la pantalla\n",
    "        for i, matrix in enumerate(matrices):\n",
    "            \n",
    "            self.play(Create(matrix))\n",
    "\n",
    "            # Agregar texto \"det\" a la izquierda de la matriz\n",
    "            det_text = MathTex(r\"det\").next_to(matrix, direction=LEFT*0.4, buff=1)\n",
    "            self.add(det_text)\n",
    "\n",
    "\n",
    "            if i == 0:\n",
    "                igualdad = MathTex(r\"=1-0=1\").shift(RIGHT*3)\n",
    "                self.play(Write(igualdad))\n",
    "            if i == 1:\n",
    "                igualdad = MathTex(r\"=2-1=1\").shift(RIGHT*3)\n",
    "                self.play(Write(igualdad))\n",
    "            if i == 2:\n",
    "                igualdad = MathTex(r\"=3-2=1\").shift(RIGHT*3)\n",
    "                self.play(Write(igualdad))\n",
    "            if i == 3:\n",
    "                igualdad = MathTex(r\"=2-1=-1 \\neq 1\").shift(RIGHT*3).set_color(RED)\n",
    "                self.play(Write(igualdad))\n",
    "                \n",
    "            \n",
    "            self.wait(2)\n",
    "            self.clear()\n",
    "        # Esperar un momento para mostrar las matrices\n",
    "        self.wait(3)\n"
   ]
  }
 ],
 "metadata": {
  "kernelspec": {
   "display_name": "Python 3",
   "language": "python",
   "name": "python3"
  },
  "language_info": {
   "codemirror_mode": {
    "name": "ipython",
    "version": 3
   },
   "file_extension": ".py",
   "mimetype": "text/x-python",
   "name": "python",
   "nbconvert_exporter": "python",
   "pygments_lexer": "ipython3",
   "version": "3.10.6"
  },
  "orig_nbformat": 4
 },
 "nbformat": 4,
 "nbformat_minor": 2
}
