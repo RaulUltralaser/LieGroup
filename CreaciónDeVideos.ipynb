{
 "cells": [
  {
   "cell_type": "code",
   "execution_count": 20,
   "metadata": {},
   "outputs": [],
   "source": [
    "from manim import *\n",
    "import cv2\n",
    "import matplotlib.pyplot as plt\n",
    "import numpy as np\n",
    "# import IPython.display as display\n",
    "# from PIL import Image\n",
    "\n",
    "\n",
    "\n",
    "config.media_width = \"75%\"\n",
    "config.verbosity = \"WARNING\""
   ]
  },
  {
   "cell_type": "code",
   "execution_count": 2,
   "metadata": {},
   "outputs": [
    {
     "name": "stderr",
     "output_type": "stream",
     "text": [
      "                                                                                                \r"
     ]
    },
    {
     "data": {
      "text/html": [
       "<video src=\"media/jupyter/MatrixVisualization@2023-03-29@11-36-06.mp4\" controls autoplay loop style=\"max-width: 75%;\"  >\n",
       "      Your browser does not support the <code>video</code> element.\n",
       "    </video>"
      ],
      "text/plain": [
       "<IPython.core.display.Video object>"
      ]
     },
     "metadata": {},
     "output_type": "display_data"
    }
   ],
   "source": [
    "%%manim -qm MatrixVisualization\n",
    "# from IPython.display import HTML\n",
    "\n",
    "class MatrixVisualization(Scene):\n",
    "    def construct(self):\n",
    "        # Crear matriz genérica\n",
    "        matrix = Matrix([['a','b'], ['c','d']])\n",
    "\n",
    "        # Mostrar matriz en la pantalla\n",
    "        self.play(Create(matrix))\n",
    "        self.wait()\n",
    "\n",
    "        #añade el texto dete al lado de la matriz\n",
    "        text = MathTex(r\"det\").shift(LEFT*1.6)\n",
    "        self.play(Write(text))\n",
    "        self.wait()\n",
    "\n",
    "        #añade la igualdad del lado derecho\n",
    "        igualdad = MathTex(r\"=ad-bc=1\").shift(RIGHT*3)\n",
    "        self.play(Write(igualdad))\n",
    "        self.wait()\n",
    "        \n",
    "        # Borrar la pantalla\n",
    "        self.clear()\n",
    "\n",
    "        # Crear tres matrices con determinante igual a 1 y una matriz con determinante distinto de 1\n",
    "        matrices = [Matrix([[1, 0], [0, 1]]), Matrix([[2, 1], [1, 1]]), Matrix([[3, 1], [2, 1]]), Matrix([[1, 1], [1, 0]])]\n",
    "\n",
    "        # Mostrar las matrices en la pantalla\n",
    "        for i, matrix in enumerate(matrices):\n",
    "            \n",
    "            self.play(Create(matrix))\n",
    "\n",
    "            # Agregar texto \"det\" a la izquierda de la matriz\n",
    "            det_text = MathTex(r\"det\").next_to(matrix, direction=LEFT*0.4, buff=1)\n",
    "            self.add(det_text)\n",
    "\n",
    "\n",
    "            if i == 0:\n",
    "                igualdad = MathTex(r\"=1-0=1\").shift(RIGHT*3)\n",
    "                self.play(Write(igualdad))\n",
    "            if i == 1:\n",
    "                igualdad = MathTex(r\"=2-1=1\").shift(RIGHT*3)\n",
    "                self.play(Write(igualdad))\n",
    "            if i == 2:\n",
    "                igualdad = MathTex(r\"=3-2=1\").shift(RIGHT*3)\n",
    "                self.play(Write(igualdad))\n",
    "            if i == 3:\n",
    "                igualdad = MathTex(r\"=2-1=-1 \\neq 1\").shift(RIGHT*3).set_color(RED)\n",
    "                self.play(Write(igualdad))\n",
    "                \n",
    "            \n",
    "            self.wait(2)\n",
    "            self.clear()\n",
    "        # Esperar un momento para mostrar las matrices\n",
    "        self.wait(3)\n"
   ]
  },
  {
   "cell_type": "code",
   "execution_count": 35,
   "metadata": {},
   "outputs": [
    {
     "name": "stderr",
     "output_type": "stream",
     "text": [
      "                                                                                                                           \r"
     ]
    },
    {
     "data": {
      "text/html": [
       "<video src=\"media/jupyter/ImplicitFunctionTheorem@2023-03-29@15-25-14.mp4\" controls autoplay loop style=\"max-width: 75%;\"  >\n",
       "      Your browser does not support the <code>video</code> element.\n",
       "    </video>"
      ],
      "text/plain": [
       "<IPython.core.display.Video object>"
      ]
     },
     "metadata": {},
     "output_type": "display_data"
    }
   ],
   "source": [
    "%%manim -qm ImplicitFunctionTheorem\n",
    "\n",
    "##FIXME: No está desmostrando realmente el teorema, explicarlo y luego usar la función g(x)=raíz(9-x) y graficarla \n",
    "\n",
    "class ImplicitFunctionTheorem(Scene):\n",
    "    axes_kwargs= {\n",
    "\t\t\"x_range\": (-3, 3, 1),\n",
    "\t\t\"y_range\": (-3, 3, 1),\n",
    "        'x_length': 6,\n",
    "        'y_length': 6,\n",
    "\t\t\"axis_config\": {\n",
    "\t\t\t\"stroke_color\": BLUE,\n",
    "\t\t\t\"stroke_width\": 4,\n",
    "\t\t},\n",
    "\t\t\"y_axis_config\": {\n",
    "\t\t\t\"include_tip\": False\n",
    "\t\t}\n",
    "\t}\n",
    "    \n",
    "    def construct(self):\n",
    "        # # Definir la escena\n",
    "\n",
    "\n",
    "        # self.camera.background_color = WHITE\n",
    "        # axes = Axes(\n",
    "        #     x_range=(-3, 3), y_range=(-3, 3),\n",
    "        #     x_length=6, y_length=6,\n",
    "        #     axis_config={\"color\": BLACK, \"stroke_width\": 2, \"tick_size\": 0.05},\n",
    "        #     tips=False\n",
    "        # )\n",
    "\n",
    "        # Agregar títulos y descripciones\n",
    "        title = Title(\"Teorema de la función implícita\", color=WHITE)\n",
    "        subtitle = Text(\"Demostración visual\", color=WHITE).scale(0.8)\n",
    "        description1 = MathTex(r\"Sea\\hspace{.1cm} F(x,y) = x^2 + y^2 - 9 = 0\").shift(UP)\n",
    "        description2 = Text(\"¿Podemos despejar y como una función de x?\").scale(0.7)\n",
    "        description3 = Text(\"El teorema de la función implícita dice que...\").scale(0.7)\n",
    "        description4 = Text(\"El teorema de la función implícita dice que...\").scale(0.7)\n",
    "        formula = MathTex(r\"F(x,y) = x^2 + y^2 - 9 = 0\").to_corner(UL)\n",
    "        formula2 = MathTex(r\"\\frac{\\partial F}{\\partial y} \\neq 0\").to_corner(UL)\n",
    "        formula3 = MathTex(r\"\\Rightarrow y = f(x)\").to_corner(UL)\n",
    "\n",
    "        axes = Axes(**self.axes_kwargs)\n",
    "        axes.add_coordinates(font_size=20, num_decimal_places=1)\n",
    "\t\t\n",
    "        func = lambda x: np.sqrt(9 - x ** 2) #Quadratic Function\n",
    "        graph = axes.plot(func)\n",
    "\t\t\n",
    "        # graph = axes.get_graph(lambda x: np.sqrt(9 - x ** 2), x_range=[-3, 0], color=BLUE, stroke_width=3)\n",
    "        point = Dot(point=axes.c2p(-3, 0), color=RED)\n",
    "\n",
    "        # Animaciones\n",
    "        self.play(Write(title))\n",
    "        self.wait(2)\n",
    "        self.play(Transform(title, subtitle))\n",
    "        self.wait()\n",
    "        self.play(FadeOut(title))\n",
    "        self.add(axes)\n",
    "        self.play(FadeIn(graph))\n",
    "        self.play(Create(point))\n",
    "        self.wait()\n",
    "        self.play(FadeOut(point))\n",
    "        self.play(FadeOut(graph))\n",
    "        self.play(FadeOut(axes))\n",
    "        self.play(Write(description1))\n",
    "        self.wait()\n",
    "        # self.play(FadeOut(description1))\n",
    "        self.play(Write(description2))\n",
    "        self.wait()\n",
    "        self.play(FadeOut(description1), FadeOut(description2))\n",
    "        self.play(Create(formula))\n",
    "        self.wait()\n",
    "        self.play(FadeOut(formula))\n",
    "        self.play(Write(description3))\n",
    "        self.wait()\n",
    "        self.play(FadeOut(description3))\n",
    "        self.play(Create(formula2))\n",
    "        self.wait()\n",
    "        self.play(Transform(formula2, formula3))\n",
    "        self.wait()\n"
   ]
  },
  {
   "cell_type": "code",
   "execution_count": null,
   "metadata": {},
   "outputs": [],
   "source": []
  }
 ],
 "metadata": {
  "kernelspec": {
   "display_name": "Python 3",
   "language": "python",
   "name": "python3"
  },
  "language_info": {
   "codemirror_mode": {
    "name": "ipython",
    "version": 3
   },
   "file_extension": ".py",
   "mimetype": "text/x-python",
   "name": "python",
   "nbconvert_exporter": "python",
   "pygments_lexer": "ipython3",
   "version": "3.10.6"
  },
  "orig_nbformat": 4
 },
 "nbformat": 4,
 "nbformat_minor": 2
}
