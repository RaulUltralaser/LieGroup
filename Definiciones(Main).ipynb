{
 "cells": [
  {
   "cell_type": "code",
   "execution_count": 4,
   "metadata": {},
   "outputs": [],
   "source": [
    "import IPython.display as display\n",
    "from PIL import Image"
   ]
  },
  {
   "attachments": {},
   "cell_type": "markdown",
   "metadata": {},
   "source": [
    "# Grupos de Lie\n",
    "## Grupos de Lie matriciales\n",
    "\n",
    "rudimentariamente hablando, un grupo de Lie es un *grupo continuo*, esto es un grupo descrito por varios parametros reales. hablaremos solo de los **grupos de Lie matriciales**, los cuales son grupos de Lie representados como grupos de matrices. \n"
   ]
  },
  {
   "attachments": {},
   "cell_type": "markdown",
   "metadata": {},
   "source": [
    "como ejemplo, consideremos los conjuntos de todas las matrices reales de 2 x 2 con determinante 1 comunmente denotado como:"
   ]
  },
  {
   "cell_type": "code",
   "execution_count": 5,
   "metadata": {},
   "outputs": [
    {
     "data": {
      "image/png": "[encoded data removed]",
      "text/plain": [
       "<PIL.PngImagePlugin.PngImageFile image mode=RGBA size=303x83>"
      ]
     },
     "metadata": {},
     "output_type": "display_data"
    }
   ],
   "source": [
    "display.display(Image.open('SL2.png'))\n"
   ]
  },
  {
   "attachments": {},
   "cell_type": "markdown",
   "metadata": {},
   "source": [
    "Ya que el determinante de un producto es el producto de determinantes, este conjunto forma un grupo bajo la multiplicación de matrices. *(Notemos que su determinante es distinto de cero así que son invertibles, y por lo tanto tienen inversa. Además su identidad es la matriz identidad de 2x2)*"
   ]
  },
  {
   "attachments": {},
   "cell_type": "markdown",
   "metadata": {},
   "source": [
    "Si pensamos en el conjunto de todas las matrices $2x2$, con entradas $a,b,c,d$, como $\\mathbb{R^4}$, entonces $SL(2,\\mathbb{R})$ es el conjunto de puntos en $\\mathbb{R^4}$ para los cuales la función suave $ad-bc$ tiene el valor $1$"
   ]
  },
  {
   "attachments": {},
   "cell_type": "markdown",
   "metadata": {},
   "source": [
    "<video width=\"640\" height=\"480\" controls>\n",
    "  <source src=\"./media/videos/LieGroup/720p30/MatrixVisualization.mp4\" type=\"video/mp4\">\n",
    "</video>"
   ]
  },
  {
   "attachments": {},
   "cell_type": "markdown",
   "metadata": {},
   "source": [
    "Supogamos $f$ es una función suave en $\\mathbb{R^k}$ y consideramos el set $E$ donde $f(x)$ es igual a una constante $c$. Si, a cada punto $\\textbf{x}_0$ en $E$, al menos una de las derivadas parciales de $f$ no es cero. Entonces el teorema de la función implicita nos dice que podemos resolver la ecuación $f(\\textbf{x})=c$ cerca de $\\textbf{x}_0$ para alguna de las variables como una funcion de otras $k-1$ variables. De este modo, $E$ es una \"superficie\" suave (o subvariedad embebida) en $\\mathbb{R^k}$ de dimensiones $k-1$. "
   ]
  },
  {
   "attachments": {},
   "cell_type": "markdown",
   "metadata": {},
   "source": [
    "<video width=\"640\" height=\"480\" controls>\n",
    "  <source src=\"./media/videos/LieGroup/720p30/ImplicitFunctionTheorem.mp4\" type=\"video/mp4\">\n",
    "</video>"
   ]
  },
  {
   "attachments": {},
   "cell_type": "markdown",
   "metadata": {},
   "source": [
    "En el caso de $SL(2;\\mathbb{R})$ inside $\\mathbb{R}^4, notamos que las derivadas parciales de $ad-bc$ con respecto a $a,b,c$, y $d$, son, respectivamente $d.-c,-b$ y $a$. Por lo tanto, a cada putno donde $ad-bc=1$, al menos una de estas derivadas parciales no es cero, y concluimos que $SL(2;\\mathbb{R})$ es una superficie suave de dimensión 3. De este modo, $SL(2;\\mathbb{R})$ es un grupo de Lie de dimensión 3."
   ]
  },
  {
   "attachments": {},
   "cell_type": "markdown",
   "metadata": {},
   "source": [
    "Para otros gurpos de matrices, se podria hacer una aproximación similar. Sin embargo el analisis es más complicado debido a que la mayoría de los grupos están definidos por multiples y diferentes funciones suaves igualadas a una constante. Así que se tiene que revisar que estas funciones son independientes en el sentido del teorema de la función implicita, lo que significa que sus vectores gradientes tienen que ser linealmente independientes en cada punto del grupo."
   ]
  },
  {
   "attachments": {},
   "cell_type": "markdown",
   "metadata": {},
   "source": [
    "***Definición 1.1***: EL *grupo lineal general* sobre los números reales, denotado como $GL(n;\\mathbb{R})$, es el grupo de todas las matrices invertibles de $nxn$ con elementos reales. El grupo lineal general sobre los números complejos, denotado por $GL(n;\\mathbb{C})$, es el grupo de todas las matrices invertibles de $nxn$ con elementos complejos"
   ]
  },
  {
   "attachments": {},
   "cell_type": "markdown",
   "metadata": {},
   "source": [
    "***Definición 1.2***: Sea $M_n(\\mathbb{C}$ el espacio de todas las matrices $n\\times n$ con elementos complejos\n"
   ]
  },
  {
   "attachments": {},
   "cell_type": "markdown",
   "metadata": {},
   "source": [
    "Podemos identificar $M_n(\\mathbb{C})$ con $\\mathbb{C}^{n^2}$ y usar la notación estándar de convergencia en $\\mathbb{C}^{n^2}$. Explícitamente, esto significa lo siguiente:"
   ]
  },
  {
   "attachments": {},
   "cell_type": "markdown",
   "metadata": {},
   "source": [
    "***Definición 1.3***: Sea $A_m$ una secuencia de matrices complejas en $M_n(\\mathbb{C})$. Decimos que $A_m$ converge a una matriz $A$ si cada elemento de $A_m$ converge (como $m\\rightarrow \\infty$) a la entrada correspondiente de $A$ (i.e., si ($A_m)_{jk}$ converge a $A_{jk}$ para todo   $1\\leq j,k \\leq n$)."
   ]
  },
  {
   "attachments": {},
   "cell_type": "markdown",
   "metadata": {},
   "source": [
    "Ahora consideramos subgrupos de $GL(n;\\mathbb{C}), esto es, subconjuntos $G$ de $GL(n;\\mathbb{C})$ tal que la matriz de identidad está en $G$ y tal que para todo $A$ y $B$ en $G$, las matrices $AB$ y $A^{-1}$ tambien están en $G$."
   ]
  },
  {
   "attachments": {},
   "cell_type": "markdown",
   "metadata": {},
   "source": [
    "***Definición 1.4***: Un *grupo matricial de Lie* es un subgrupo $G$ de $GL(n;\\mathbb{C})$ con la siguiente propiedad: Si $A_m$ es una secuencia de matrices en $G$, y $A_m$ converge a alguna matriz $A$ entonces o bien $A$ está en $G$ o no es invertible."
   ]
  },
  {
   "attachments": {},
   "cell_type": "markdown",
   "metadata": {},
   "source": [
    "Para revisar sí los grupos son grupos de Lie se utlizará una alternativa al metódo anterior. Se considera el grupo de matrices $G$que está cerrad en el sentido de la ***definición 1.4*** Un resultado general del corolario 3.45 (el cual no veremos), mostrará entonces que $G$ es una variedad suave cuyas dimensiones equivalen a las dimensiones de su algebra de Lie como un vector de espacio."
   ]
  },
  {
   "attachments": {},
   "cell_type": "markdown",
   "metadata": {},
   "source": [
    "La condición sobre $G$ equivale a deicr que $G$ es un subconjunto cerrado de $GL(N;\\mathbb{C})$ (Esto no necesariamente significa que $G$ es cerrado en $M_n(\\mathbb{C}))$. De este modo, la ***definición 1.4*** equivale a decir que el grupo de matrices de Lie es un subgrupo cerrado de $GL(n;\\mathbb{C})$."
   ]
  },
  {
   "attachments": {},
   "cell_type": "markdown",
   "metadata": {},
   "source": [
    "La condición de que $G$ sea un subgrupo cerrado, no solo un subgrupo, debe ser considerada como un tecnicismo, en que la mayoría de los subgrupos de $GL(n;\\mathbb{C})$ tienen esta propiedad. La mayoria de lso grupos matriciales de Lie $G$, se consideraran con la propiedad fuerte de que si $A_m$ es cualquier secuencia de matrices en $G$, y $A_m$ converge a una matriz $A$, entonces $A\\in G$ (por lo tanto, que $G$ es cerrado en $M_n$)"
   ]
  },
  {
   "cell_type": "code",
   "execution_count": 6,
   "metadata": {},
   "outputs": [],
   "source": [
    "##TODO: agregar la última parte del preambulo"
   ]
  }
 ],
 "metadata": {
  "kernelspec": {
   "display_name": "Python 3",
   "language": "python",
   "name": "python3"
  },
  "language_info": {
   "codemirror_mode": {
    "name": "ipython",
    "version": 3
   },
   "file_extension": ".py",
   "mimetype": "text/x-python",
   "name": "python",
   "nbconvert_exporter": "python",
   "pygments_lexer": "ipython3",
   "version": "3.10.6"
  },
  "orig_nbformat": 4
 },
 "nbformat": 4,
 "nbformat_minor": 2
}
